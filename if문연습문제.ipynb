{
 "cells": [
  {
   "cell_type": "code",
   "execution_count": null,
   "id": "cf2fe781",
   "metadata": {},
   "outputs": [],
   "source": [
    "\n",
    "    num1 = int(input(\"첫번째 점수를 입력해주세요:\"))\n",
    "    num2 = int(input(\"두번째 점수를 입력해주세요:\"))\n",
    "    num3 = int(input(\"세번째 점수를 입력해주세요:\"))\n",
    "    \n",
    "    if not (0 <= num1 <= 100) or (0 <= num2 <= 100) or (0 <= num3 <= 100):\n",
    "        print(\"잘못된 점수입니다.\")\n",
    "    elif num1>65 and num2>65 and num3>65:\n",
    "               print(\"합격\")\n",
    "    else: \n",
    "        print(\"불합격\")\n",
    " "
   ]
  },
  {
   "cell_type": "code",
   "execution_count": 17,
   "id": "ec6b1e19",
   "metadata": {},
   "outputs": [
    {
     "name": "stdout",
     "output_type": "stream",
     "text": [
      "등록할 카테고리를 선택해주세요(과일.채소):과일\n",
      "등록할 과일을 입력해주세요:포도\n",
      "['사과', '오렌지', '포도']\n"
     ]
    }
   ],
   "source": [
    "fruit = ['사과','오렌지']\n",
    "vegetable = ['당근','호박']\n",
    "\n",
    "chaso_fruit=input(\"등록할 카테고리를 선택해주세요(과일.채소):\")\n",
    "if chaso_fruit == \"채소\": \n",
    "    chaso =input(\"등록할 채소를 입력해주세요:\")\n",
    "    \n",
    "    if not chaso in fruit:\n",
    "        vegetable.append(chaso)\n",
    "        print(vegetable)\n",
    "    else:\n",
    "        print('이미 등록되어 있는 채소입니다.')\n",
    "    \n",
    "elif chaso_fruit == \"과일\":  \n",
    "    fruits =input(\"등록할 과일을 입력해주세요:\")\n",
    "    \n",
    "    if not fruits in fruit:\n",
    "        fruit.append(fruits)\n",
    "        print(fruit)\n",
    "    else:\n",
    "        print('이미 등록되어 있는 과일입니다.')\n",
    "        \n",
    "else:\n",
    "    print(\"존재하지 않는 카테고리 입니다.\")\n",
    "    \n"
   ]
  }
 ],
 "metadata": {
  "kernelspec": {
   "display_name": "Python 3",
   "language": "python",
   "name": "python3"
  }
 },
 "nbformat": 4,
 "nbformat_minor": 5
}
