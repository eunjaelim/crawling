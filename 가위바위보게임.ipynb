{
 "cells": [
  {
   "cell_type": "code",
   "execution_count": 1,
   "id": "0a92c463",
   "metadata": {},
   "outputs": [
    {
     "data": {
      "text/plain": [
       "0.5120522638844142"
      ]
     },
     "execution_count": 1,
     "metadata": {},
     "output_type": "execute_result"
    }
   ],
   "source": [
    "import random\n",
    "\n",
    "random.random()"
   ]
  },
  {
   "cell_type": "code",
   "execution_count": 2,
   "id": "d0074ce0",
   "metadata": {},
   "outputs": [],
   "source": [
    "computer = random.randint(1,3)\n"
   ]
  },
  {
   "cell_type": "code",
   "execution_count": 4,
   "id": "3b0b4987",
   "metadata": {},
   "outputs": [
    {
     "name": "stdout",
     "output_type": "stream",
     "text": [
      "가위(1), 바위(2), 보(3) 을 입력해주세요:1\n",
      "게임종료(전체:0,승리:0)\n"
     ]
    }
   ],
   "source": [
    "total = 0\n",
    "count = 0\n",
    "\n",
    "while True:\n",
    "    \n",
    "    user= int(input(\"가위(1), 바위(2), 보(3) 을 입력해주세요:\"))\n",
    "    computer = random.randint(1,3)\n",
    "    if 1<=user<=3:\n",
    "        print(f\"게임종료(전체:{total},승리:{count})\")\n",
    "        break\n",
    "    \n",
    "    elif user == 1 and computer == 2 :\n",
    "        print(\"유저 : 가위, 컴퓨터 : 바위\")\n",
    "        total+=total\n",
    "    \n",
    "    elif user == 1 and  computer == 3 :\n",
    "        print(\"유저 : 가위, 컴퓨터 : 보\")\n",
    "        total=total+1\n",
    "        count=count+1\n",
    "   \n",
    "    elif user == 2 and  computer == 1 :\n",
    "        print(\"유저 : 바위, 컴퓨터 : 가위\")\n",
    "        total=total+1\n",
    "        count=count+1\n",
    "   \n",
    "    elif user == 2 and  computer == 3:\n",
    "        print(\"유저 : 바위, 컴퓨터 : 보\")\n",
    "        count=count+1\n",
    "   \n",
    "    elif user == 3 and  computer == 1 :\n",
    "        print(\"유저 : 보, 컴퓨터 : 가위\")\n",
    "        total=total+1\n",
    "       \n",
    "    else :\n",
    "        print(\"유저 : 보, 컴퓨터 : 바위\")\n",
    "        count=count+1\n",
    "        total=total+1\n",
    "     \n",
    "   \n",
    "        \n",
    "        "
   ]
  },
  {
   "cell_type": "code",
   "execution_count": 13,
   "id": "1940a2c6",
   "metadata": {},
   "outputs": [
    {
     "name": "stdout",
     "output_type": "stream",
     "text": [
      "가위(1), 바위(2),보(3)을 입력하세요:1\n",
      "유저 : 가위,컴퓨터: 가위\n",
      "비김\n",
      "가위(1), 바위(2),보(3)을 입력하세요:2\n",
      "유저 : 바위,컴퓨터: 바위\n",
      "비김\n",
      "가위(1), 바위(2),보(3)을 입력하세요:3\n",
      "유저 : 보,컴퓨터: 가위\n",
      "짐\n",
      "가위(1), 바위(2),보(3)을 입력하세요:4\n",
      "게임종료(전체:3,승리:0)\n"
     ]
    }
   ],
   "source": [
    "import random\n",
    "select = [\"\",\"가위\",\"바위\",\"보\"]\n",
    "total = 0 \n",
    "win = 0 \n",
    "\n",
    "while True:\n",
    "    user = int(input(\"가위(1), 바위(2),보(3)을 입력하세요:\"))\n",
    "    computer = random.randint(1,3)\n",
    "    \n",
    "    \n",
    "    if not (1 <= user <=3):\n",
    "        break\n",
    "        \n",
    "        \n",
    "    print(f\"유저 : {select[user]},컴퓨터: {select[computer]}\")\n",
    "    \n",
    "    if ((user == 1 and computer == 3) or (user == 2 and computer == 1) or (user == 3 and computer == 2)):\n",
    "        win+=1\n",
    "        total+=1\n",
    "    elif user == computer:\n",
    "        print(\"비김\")\n",
    "        total+=1\n",
    "    else :\n",
    "        print(\"짐\")\n",
    "        total+=1\n",
    "print(f\"게임종료(전체:{total},승리:{win})\")   "
   ]
  }
 ],
 "metadata": {
  "kernelspec": {
   "display_name": "Python 3 (ipykernel)",
   "language": "python",
   "name": "python3"
  },
  "language_info": {
   "codemirror_mode": {
    "name": "ipython",
    "version": 3
   },
   "file_extension": ".py",
   "mimetype": "text/x-python",
   "name": "python",
   "nbconvert_exporter": "python",
   "pygments_lexer": "ipython3",
   "version": "3.9.12"
  }
 },
 "nbformat": 4,
 "nbformat_minor": 5
}
