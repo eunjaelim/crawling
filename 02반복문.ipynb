{
 "cells": [
  {
   "cell_type": "code",
   "execution_count": 2,
   "id": "4fa9d4f6",
   "metadata": {},
   "outputs": [
    {
     "name": "stdout",
     "output_type": "stream",
     "text": [
      "현재값0\n",
      "현재값1\n",
      "현재값2\n",
      "현재값3\n",
      "현재값4\n",
      "현재값5\n",
      "현재값6\n",
      "현재값7\n",
      "현재값8\n",
      "현재값9\n"
     ]
    }
   ],
   "source": [
    "for i in range(0,10):\n",
    "    print(f\"현재값{i}\")"
   ]
  },
  {
   "cell_type": "code",
   "execution_count": 4,
   "id": "57212a08",
   "metadata": {},
   "outputs": [
    {
     "name": "stdout",
     "output_type": "stream",
     "text": [
      "0\n",
      "1\n",
      "2\n",
      "3\n",
      "4\n"
     ]
    }
   ],
   "source": [
    "for i in range(0,5):\n",
    "    print(i)"
   ]
  },
  {
   "cell_type": "code",
   "execution_count": 8,
   "id": "e840d212",
   "metadata": {},
   "outputs": [
    {
     "name": "stdout",
     "output_type": "stream",
     "text": [
      "10\n",
      "8\n",
      "6\n",
      "4\n",
      "2\n"
     ]
    }
   ],
   "source": [
    "for i in range(10,0,-2):\n",
    "    print(i)"
   ]
  },
  {
   "cell_type": "code",
   "execution_count": 10,
   "id": "87d3e4da",
   "metadata": {},
   "outputs": [
    {
     "name": "stdout",
     "output_type": "stream",
     "text": [
      "1\n",
      "2\n",
      "3\n",
      "4\n",
      "5\n",
      "6\n",
      "7\n"
     ]
    }
   ],
   "source": [
    "# list 반복\n",
    "\n",
    "a = [1, 2, 3, 4, 5, 6, 7]\n",
    "\n",
    "for i in a:\n",
    "    print(i)"
   ]
  },
  {
   "cell_type": "code",
   "execution_count": 13,
   "id": "33f7902b",
   "metadata": {},
   "outputs": [
    {
     "name": "stdout",
     "output_type": "stream",
     "text": [
      "O r a n g e "
     ]
    }
   ],
   "source": [
    "for i in \"Orange\":\n",
    "    print(i,end=\" \")"
   ]
  },
  {
   "cell_type": "code",
   "execution_count": 17,
   "id": "9d692ff8",
   "metadata": {},
   "outputs": [
    {
     "name": "stdout",
     "output_type": "stream",
     "text": [
      "name\n",
      "tom\n",
      "math\n",
      "80\n",
      "english\n",
      "70\n"
     ]
    }
   ],
   "source": [
    "a = {\"name\": \"tom\",\"math\":80,\"english\":70}\n",
    "for i in a : \n",
    "    print(i)\n",
    "    print(a[i])"
   ]
  },
  {
   "cell_type": "code",
   "execution_count": 18,
   "id": "db71dbfc",
   "metadata": {},
   "outputs": [
    {
     "data": {
      "text/plain": [
       "'tom'"
      ]
     },
     "execution_count": 18,
     "metadata": {},
     "output_type": "execute_result"
    }
   ],
   "source": [
    "a[\"name\"]"
   ]
  },
  {
   "cell_type": "code",
   "execution_count": 20,
   "id": "45422137",
   "metadata": {},
   "outputs": [
    {
     "data": {
      "text/plain": [
       "80"
      ]
     },
     "execution_count": 20,
     "metadata": {},
     "output_type": "execute_result"
    }
   ],
   "source": [
    "a[\"math\"]"
   ]
  },
  {
   "cell_type": "code",
   "execution_count": 22,
   "id": "6d31bd91",
   "metadata": {},
   "outputs": [
    {
     "data": {
      "text/plain": [
       "70"
      ]
     },
     "execution_count": 22,
     "metadata": {},
     "output_type": "execute_result"
    }
   ],
   "source": [
    "a[\"english\"]"
   ]
  },
  {
   "cell_type": "code",
   "execution_count": 26,
   "id": "421cf7a6",
   "metadata": {},
   "outputs": [
    {
     "name": "stdout",
     "output_type": "stream",
     "text": [
      "반복할횟수5\n",
      "Hello World 0\n",
      "Hello World 1\n",
      "Hello World 2\n",
      "Hello World 3\n",
      "Hello World 4\n"
     ]
    }
   ],
   "source": [
    "count = int(input(\"반복할횟수\"))\n",
    "\n",
    "\n",
    "for i in range(count):\n",
    "    print(\"Hello World\",i)"
   ]
  },
  {
   "cell_type": "code",
   "execution_count": 31,
   "id": "61db5013",
   "metadata": {},
   "outputs": [
    {
     "name": "stdout",
     "output_type": "stream",
     "text": [
      "0 1\n",
      "1 2\n",
      "2 3\n",
      "3 4\n",
      "4 5\n",
      "5 6\n",
      "6 7\n"
     ]
    }
   ],
   "source": [
    "# 인덱스 값과 함께 출력하는 반복문\n",
    "\n",
    "a = [1,2,3,4,5,6,7]\n",
    "\n",
    "for idx, val in enumerate(a):\n",
    "    print(idx, val)"
   ]
  },
  {
   "cell_type": "code",
   "execution_count": 34,
   "id": "58ec13ed",
   "metadata": {},
   "outputs": [
    {
     "name": "stdout",
     "output_type": "stream",
     "text": [
      "********************************* 0\n",
      "j: 0\n",
      "j: 1\n",
      "j: 2\n",
      "j: 3\n",
      "j: 4\n",
      "********************************* 1\n",
      "j: 0\n",
      "j: 1\n",
      "j: 2\n",
      "j: 3\n",
      "j: 4\n",
      "********************************* 2\n",
      "j: 0\n",
      "j: 1\n",
      "j: 2\n",
      "j: 3\n",
      "j: 4\n",
      "********************************* 3\n",
      "j: 0\n",
      "j: 1\n",
      "j: 2\n",
      "j: 3\n",
      "j: 4\n",
      "********************************* 4\n",
      "j: 0\n",
      "j: 1\n",
      "j: 2\n",
      "j: 3\n",
      "j: 4\n"
     ]
    }
   ],
   "source": [
    "for i in range(0,5):\n",
    "    print(\"*********************************\",i) # 5번 반복\n",
    "    for j in range(0,5):\n",
    "        print(\"j:\",j) # 25번 반복"
   ]
  }
 ],
 "metadata": {
  "kernelspec": {
   "display_name": "Python 3 (ipykernel)",
   "language": "python",
   "name": "python3"
  },
  "language_info": {
   "codemirror_mode": {
    "name": "ipython",
    "version": 3
   },
   "file_extension": ".py",
   "mimetype": "text/x-python",
   "name": "python",
   "nbconvert_exporter": "python",
   "pygments_lexer": "ipython3",
   "version": "3.9.12"
  }
 },
 "nbformat": 4,
 "nbformat_minor": 5
}
