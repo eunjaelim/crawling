{
 "cells": [
  {
   "cell_type": "code",
   "execution_count": 5,
   "id": "95adcae8",
   "metadata": {},
   "outputs": [
    {
     "name": "stdout",
     "output_type": "stream",
     "text": [
      "x가10입니다.\n"
     ]
    }
   ],
   "source": [
    "x = 10\n",
    "if x==10:\n",
    "    print(f\"x가{10}입니다.\")\n",
    "    "
   ]
  },
  {
   "cell_type": "code",
   "execution_count": 9,
   "id": "a35817ee",
   "metadata": {},
   "outputs": [
    {
     "name": "stdout",
     "output_type": "stream",
     "text": [
      "끝\n"
     ]
    }
   ],
   "source": [
    "x = 10 \n",
    "if x==10:\n",
    "    pass # 비어있는 조건문\n",
    "print(\"끝\")"
   ]
  },
  {
   "cell_type": "code",
   "execution_count": 15,
   "id": "3650a7fb",
   "metadata": {},
   "outputs": [
    {
     "name": "stdout",
     "output_type": "stream",
     "text": [
      "코드끝\n"
     ]
    }
   ],
   "source": [
    "x = 10\n",
    "if x !=10: \n",
    "    print(\"x는 10입니다.\")\n",
    "    print(\"x는 10입니다.\")\n",
    "    print(\"x는 10입니다.\")\n",
    "    print(\"x는 10입니다.\")\n",
    "    print(\"x는 10입니다.\")\n",
    "    print(\"x는 10입니다.\")\n",
    "print(\"코드끝\")    #if문과 상관없이 실행됨"
   ]
  },
  {
   "cell_type": "code",
   "execution_count": 36,
   "id": "4a2ccc00",
   "metadata": {},
   "outputs": [],
   "source": [
    "x = 25\n",
    "if x > 3 and x < 9:\n",
    "    print(\"x는 3보다 큽니다.\")"
   ]
  },
  {
   "cell_type": "code",
   "execution_count": 26,
   "id": "2f9c582e",
   "metadata": {},
   "outputs": [
    {
     "name": "stdout",
     "output_type": "stream",
     "text": [
      "실행\n"
     ]
    }
   ],
   "source": [
    "if 0 < x < 20 :\n",
    "    print(\"실행\")"
   ]
  },
  {
   "cell_type": "code",
   "execution_count": 39,
   "id": "5d2a7ab1",
   "metadata": {},
   "outputs": [
    {
     "name": "stdout",
     "output_type": "stream",
     "text": [
      "실행2\n"
     ]
    }
   ],
   "source": [
    "\n",
    "if x >= 10:\n",
    "    if x <= 20:\n",
    "        print(\"실행1\")\n",
    "        \n",
    "    if x <= 30:\n",
    "        print(\"실행2\")\n",
    "    "
   ]
  },
  {
   "cell_type": "code",
   "execution_count": 42,
   "id": "609c48e0",
   "metadata": {},
   "outputs": [
    {
     "name": "stdout",
     "output_type": "stream",
     "text": [
      "x는 A, B, C 모두 아니다.\n"
     ]
    }
   ],
   "source": [
    "x = \"E\"\n",
    "\n",
    "if x == \"A\":\n",
    "    print(\"x는 A\")\n",
    "elif x == \"B\":\n",
    "    print(\"x는 B\")\n",
    "elif x == \"C\": \n",
    "    print(\"x는 C\")\n",
    "else:\n",
    "    print(\"x는 A, B, C 모두 아니다.\")\n",
    "    "
   ]
  },
  {
   "cell_type": "code",
   "execution_count": null,
   "id": "bed46984",
   "metadata": {},
   "outputs": [],
   "source": []
  }
 ],
 "metadata": {
  "kernelspec": {
   "display_name": "Python 3 (ipykernel)",
   "language": "python",
   "name": "python3"
  },
  "language_info": {
   "codemirror_mode": {
    "name": "ipython",
    "version": 3
   },
   "file_extension": ".py",
   "mimetype": "text/x-python",
   "name": "python",
   "nbconvert_exporter": "python",
   "pygments_lexer": "ipython3",
   "version": "3.9.12"
  }
 },
 "nbformat": 4,
 "nbformat_minor": 5
}
